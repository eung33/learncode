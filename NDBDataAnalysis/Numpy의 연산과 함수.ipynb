{
 "metadata": {
  "language_info": {
   "codemirror_mode": {
    "name": "ipython",
    "version": 3
   },
   "file_extension": ".py",
   "mimetype": "text/x-python",
   "name": "python",
   "nbconvert_exporter": "python",
   "pygments_lexer": "ipython3",
   "version": "3.7.4"
  },
  "orig_nbformat": 2,
  "kernelspec": {
   "name": "python374jvsc74a57bd0327f696e4b3f4bc961f587422a8b86bf9712d81f4efc3bd1e77c52ac1e3eb6b0",
   "display_name": "Python 3.7.4 32-bit"
  }
 },
 "nbformat": 4,
 "nbformat_minor": 2,
 "cells": [
  {
   "source": [
    "import numpy as np \n",
    "array = np.random.randint(1,10, size=4).reshape(2,2)\n",
    "print(array)\n",
    "result_array = array * 10\n",
    "능print(result_array)"
   ],
   "cell_type": "code",
   "metadata": {},
   "execution_count": null,
   "outputs": []
  },
  {
   "cell_type": "code",
   "execution_count": 22,
   "metadata": {},
   "outputs": [
    {
     "output_type": "stream",
     "name": "stdout",
     "text": [
      "[[0 1]\n [2 3]]\n[0 1]\n[[0 2]\n [2 4]]\n"
     ]
    }
   ],
   "source": [
    "#서로 다른 형태의 numpy 연산 가능\n",
    "import numpy as np\n",
    "array1 = np.arange(4).reshape(2,2)\n",
    "array2 = np.arange(2)\n",
    "array3 = array1 + array2\n",
    "print(array1)\n",
    "print(array2)\n",
    "print(array3)"
   ]
  }
 ]
}