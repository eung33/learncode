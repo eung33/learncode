{
 "metadata": {
  "language_info": {
   "codemirror_mode": {
    "name": "ipython",
    "version": 3
   },
   "file_extension": ".py",
   "mimetype": "text/x-python",
   "name": "python",
   "nbconvert_exporter": "python",
   "pygments_lexer": "ipython3",
   "version": "3.7.4"
  },
  "orig_nbformat": 2,
  "kernelspec": {
   "name": "python374jvsc74a57bd0327f696e4b3f4bc961f587422a8b86bf9712d81f4efc3bd1e77c52ac1e3eb6b0",
   "display_name": "Python 3.7.4 32-bit"
  }
 },
 "nbformat": 4,
 "nbformat_minor": 2,
 "cells": [
  {
   "cell_type": "code",
   "execution_count": 1,
   "metadata": {},
   "outputs": [
    {
     "output_type": "stream",
     "name": "stdout",
     "text": [
      "[0 1 2 3 4 5 6 7 8 9]\n"
     ]
    }
   ],
   "source": [
    "import numpy as np  \n",
    "# 단일 객체 저장 및 불러오기\n",
    "array = np.arange(0, 10)\n",
    "np.save('saved.npy', array)\n",
    "result = np.load('saved.npy')\n",
    "print(result)"
   ]
  },
  {
   "cell_type": "code",
   "execution_count": 4,
   "metadata": {},
   "outputs": [
    {
     "output_type": "stream",
     "name": "stdout",
     "text": [
      "[0 1 2 3 4 5 6 7 8 9]\n[10 11 12 13 14 15 16 17 18 19]\n"
     ]
    }
   ],
   "source": [
    "import numpy as np   \n",
    "#복수 객체 저장 및 불러오기\n",
    "array1 = np.arange(0, 10)\n",
    "array2 = np.arange(10, 20)\n",
    "np.savez('savez.npz', arrays1=array1, arrays2=array2)\n",
    "\n",
    "data = np.load('savez.npz')\n",
    "result1 = data['arrays1']\n",
    "result2 = data['arrays2']\n",
    "print(result1)\n",
    "print(result2)"
   ]
  },
  {
   "cell_type": "code",
   "execution_count": 20,
   "metadata": {},
   "outputs": [
    {
     "output_type": "stream",
     "name": "stdout",
     "text": [
      "[ 1  3  5  9 10]\n[10  9  5  3  1]\n[[ 5  3  4  2  1]\n [ 8  9 10  3  5]]\n"
     ]
    }
   ],
   "source": [
    "import numpy as np  \n",
    "# Numpy 원소 오름차순 정렬\n",
    "array = np.array([5, 9, 10, 3, 1])\n",
    "array.sort()\n",
    "print(array)\n",
    "# 내림차순\n",
    "print(array[::-1])\n",
    "# 각 열을 기준으로 정렬\n",
    "array = np.array([[5, 9, 10, 3, 1], [8, 3, 4, 2, 5]])\n",
    "array.sort(axis=0)\n",
    "print(array)"
   ]
  },
  {
   "cell_type": "code",
   "execution_count": 56,
   "metadata": {},
   "outputs": [
    {
     "output_type": "stream",
     "name": "stdout",
     "text": [
      "[ 0.  5. 10. 15. 20. 25. 30. 35. 40. 45. 50.]\n[[4 9 6]\n [3 3 7]]\n[0 1 2 3 4 5 6 7 8 9]\n[0 1 2 3 4 5 6 7 8 9]\n[100   1   2   3   4   5   6   7   8   9]\n[1 2 3]\n"
     ]
    }
   ],
   "source": [
    "import numpy as np\n",
    "# 균일한 간격으로 데이터 생성\n",
    "array = np.linspace(0, 50, 11)\n",
    "print(array)\n",
    "# 난수의 재연(실행마다 결과 동일)\n",
    "np.random.seed(7)\n",
    "print(np.random.randint(0, 10, (2, 3)))\n",
    "# Numpy 배열 객체 복사\n",
    "array1 = np.arange(0, 10)\n",
    "array2 = array1.copy()\n",
    "print(array2)\n",
    "array2[0] = 100\n",
    "print(array1)\n",
    "print(array2)\n",
    "#중복된 원소 제거\n",
    "array = np.array([1, 1, 2, 3, 3, 3, 1])\n",
    "print(np.unique(array))"
   ]
  }
 ]
}