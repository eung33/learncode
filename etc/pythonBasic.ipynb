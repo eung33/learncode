{
  "cells": [
    {
      "cell_type": "markdown",
      "source": [
        "# ch01. Python 기초 사용법\r\n",
        "\r\n",
        "[Google](https://google.com)\r\n",
        "\r\n",
        "\r\n",
        "```python\r\n",
        "import pandas as pd\r\n",
        "```\r\n",
        "\r\n",
        "> 인용문\r\n",
        ">> 중첩된 인용문\r\n",
        ">>> 중첩된 인용문2\r\n",
        "\r\n",
        "---\r\n",
        "\r\n",
        "| 값 | 의미 | 기본값 |\r\n",
        "|---|:---:|---:|\r\n",
        "| `static` | 유형(기준) 없음 / 배치 불가능 | `static` |\r\n",
        "| `relative` | 요소 자신을 기준으로 배치 |  |\r\n",
        "| `absolute` | 위치 상 부모(조상)요소를 기준으로 배치 |  |\r\n",
        "| `fixed` | 브라우저 창을 기준으로 배치 |  |\r\n"
      ],
      "metadata": {}
    },
    {
      "cell_type": "code",
      "execution_count": 6,
      "source": [
        "tx = \"Hello!\"\r\n",
        "print(tx[0])\r\n",
        "print(tx[3])\r\n",
        "print(tx[0:4])\r\n",
        "print(tx[-1])\r\n",
        "print(tx[-3])\r\n",
        "print(tx[2:])\r\n",
        "print(tx[:2])\r\n",
        "\r\n"
      ],
      "outputs": [
        {
          "output_type": "stream",
          "name": "stdout",
          "text": [
            "H\n",
            "l\n",
            "Hell\n",
            "!\n",
            "l\n",
            "llo!\n",
            "He\n"
          ]
        }
      ],
      "metadata": {}
    },
    {
      "cell_type": "code",
      "execution_count": 27,
      "source": [
        "aa = [1, 2, 3]\r\n",
        "bb = [4, 5, 6]\r\n",
        "print(aa + bb)\r\n",
        "print(aa * 3)\r\n",
        "\r\n",
        "print(aa[1:3])\r\n",
        "\r\n",
        "bb = [1, 2, [\"a\", \"b\", \"c\"]]\r\n",
        "print(bb[2][0])\r\n",
        "print(bb[2][-3:])\r\n"
      ],
      "outputs": [
        {
          "output_type": "stream",
          "name": "stdout",
          "text": [
            "[1, 2, 3, 4, 5, 6]\n",
            "[1, 2, 3, 1, 2, 3, 1, 2, 3]\n",
            "[2, 3]\n",
            "a\n",
            "['a', 'b', 'c']\n"
          ]
        }
      ],
      "metadata": {}
    },
    {
      "cell_type": "code",
      "execution_count": 33,
      "source": [
        "bb = [2, 3, 4]\r\n",
        "bb[2] = [99, 99]\r\n",
        "print(bb)\r\n",
        "dd = [4, 5, 6]\r\n",
        "print(dd[0:2])\r\n",
        "print(dd)"
      ],
      "outputs": [
        {
          "output_type": "stream",
          "name": "stdout",
          "text": [
            "[2, 3, [99, 99]]\n",
            "[4, 5]\n",
            "[4, 5, 6]\n"
          ]
        }
      ],
      "metadata": {}
    },
    {
      "cell_type": "code",
      "execution_count": 35,
      "source": [
        "kk = [1, 2, 3]\r\n",
        "del kk[0]\r\n",
        "print(kk)\r\n",
        "print(kk[0])"
      ],
      "outputs": [
        {
          "output_type": "stream",
          "name": "stdout",
          "text": [
            "[2, 3]\n",
            "2\n"
          ]
        }
      ],
      "metadata": {}
    },
    {
      "cell_type": "code",
      "execution_count": 42,
      "source": [
        "ww = [2, 5, 4]\r\n",
        "ww.reverse()\r\n",
        "print(ww)"
      ],
      "outputs": [
        {
          "output_type": "stream",
          "name": "stdout",
          "text": [
            "[4, 5, 2]\n"
          ]
        }
      ],
      "metadata": {}
    },
    {
      "cell_type": "code",
      "execution_count": 50,
      "source": [
        "mm = [1, 2, 3]\r\n",
        "mm.index(3)\r\n",
        "mm.insert(2, 99)\r\n",
        "mm"
      ],
      "outputs": [
        {
          "output_type": "execute_result",
          "data": {
            "text/plain": [
              "[1, 2, 99, 3]"
            ]
          },
          "metadata": {},
          "execution_count": 50
        }
      ],
      "metadata": {}
    },
    {
      "cell_type": "code",
      "execution_count": 2,
      "source": [
        "import pandas as pd \r\n",
        "student_list = [{'name': 'John', 'major': \"Computer Science\", 'sex': \"male\"},\r\n",
        "                {'name': 'Nate', 'major': \"Computer Science\", 'sex': \"male\"},\r\n",
        "                {'name': 'Abraham', 'major': \"Physics\", 'sex': \"male\"},\r\n",
        "                {'name': 'Brian', 'major': \"Psychology\", 'sex': \"male\"},\r\n",
        "                {'name': 'Janny', 'major': \"Economics\", 'sex': \"female\"},\r\n",
        "                {'name': 'Yuna', 'major': \"Economics\", 'sex': \"female\"},\r\n",
        "                {'name': 'Jeniffer', 'major': \"Computer Science\", 'sex': \"female\"},\r\n",
        "                {'name': 'Edward', 'major': \"Computer Science\", 'sex': \"male\"},\r\n",
        "                {'name': 'Zara', 'major': \"Psychology\", 'sex': \"female\"},\r\n",
        "                {'name': 'Wendy', 'major': \"Economics\", 'sex': \"female\"},\r\n",
        "                {'name': 'Sera', 'major': \"Psychology\", 'sex': \"female\"}\r\n",
        "         ]\r\n",
        "df = pd.DataFrame(student_list, columns = ['name', 'major', 'sex'])\r\n",
        "df"
      ],
      "outputs": [
        {
          "output_type": "execute_result",
          "data": {
            "text/plain": [
              "        name             major     sex\n",
              "0       John  Computer Science    male\n",
              "1       Nate  Computer Science    male\n",
              "2    Abraham           Physics    male\n",
              "3      Brian        Psychology    male\n",
              "4      Janny         Economics  female\n",
              "5       Yuna         Economics  female\n",
              "6   Jeniffer  Computer Science  female\n",
              "7     Edward  Computer Science    male\n",
              "8       Zara        Psychology  female\n",
              "9      Wendy         Economics  female\n",
              "10      Sera        Psychology  female"
            ],
            "text/html": [
              "<div>\n",
              "<style scoped>\n",
              "    .dataframe tbody tr th:only-of-type {\n",
              "        vertical-align: middle;\n",
              "    }\n",
              "\n",
              "    .dataframe tbody tr th {\n",
              "        vertical-align: top;\n",
              "    }\n",
              "\n",
              "    .dataframe thead th {\n",
              "        text-align: right;\n",
              "    }\n",
              "</style>\n",
              "<table border=\"1\" class=\"dataframe\">\n",
              "  <thead>\n",
              "    <tr style=\"text-align: right;\">\n",
              "      <th></th>\n",
              "      <th>name</th>\n",
              "      <th>major</th>\n",
              "      <th>sex</th>\n",
              "    </tr>\n",
              "  </thead>\n",
              "  <tbody>\n",
              "    <tr>\n",
              "      <th>0</th>\n",
              "      <td>John</td>\n",
              "      <td>Computer Science</td>\n",
              "      <td>male</td>\n",
              "    </tr>\n",
              "    <tr>\n",
              "      <th>1</th>\n",
              "      <td>Nate</td>\n",
              "      <td>Computer Science</td>\n",
              "      <td>male</td>\n",
              "    </tr>\n",
              "    <tr>\n",
              "      <th>2</th>\n",
              "      <td>Abraham</td>\n",
              "      <td>Physics</td>\n",
              "      <td>male</td>\n",
              "    </tr>\n",
              "    <tr>\n",
              "      <th>3</th>\n",
              "      <td>Brian</td>\n",
              "      <td>Psychology</td>\n",
              "      <td>male</td>\n",
              "    </tr>\n",
              "    <tr>\n",
              "      <th>4</th>\n",
              "      <td>Janny</td>\n",
              "      <td>Economics</td>\n",
              "      <td>female</td>\n",
              "    </tr>\n",
              "    <tr>\n",
              "      <th>5</th>\n",
              "      <td>Yuna</td>\n",
              "      <td>Economics</td>\n",
              "      <td>female</td>\n",
              "    </tr>\n",
              "    <tr>\n",
              "      <th>6</th>\n",
              "      <td>Jeniffer</td>\n",
              "      <td>Computer Science</td>\n",
              "      <td>female</td>\n",
              "    </tr>\n",
              "    <tr>\n",
              "      <th>7</th>\n",
              "      <td>Edward</td>\n",
              "      <td>Computer Science</td>\n",
              "      <td>male</td>\n",
              "    </tr>\n",
              "    <tr>\n",
              "      <th>8</th>\n",
              "      <td>Zara</td>\n",
              "      <td>Psychology</td>\n",
              "      <td>female</td>\n",
              "    </tr>\n",
              "    <tr>\n",
              "      <th>9</th>\n",
              "      <td>Wendy</td>\n",
              "      <td>Economics</td>\n",
              "      <td>female</td>\n",
              "    </tr>\n",
              "    <tr>\n",
              "      <th>10</th>\n",
              "      <td>Sera</td>\n",
              "      <td>Psychology</td>\n",
              "      <td>female</td>\n",
              "    </tr>\n",
              "  </tbody>\n",
              "</table>\n",
              "</div>"
            ]
          },
          "metadata": {},
          "execution_count": 2
        }
      ],
      "metadata": {}
    },
    {
      "cell_type": "code",
      "execution_count": 9,
      "source": [
        "group_by_sex = df.groupby('sex')\r\n",
        "group_by_sex.groups\r\n",
        "print(group)"
      ],
      "outputs": [
        {
          "output_type": "error",
          "ename": "NameError",
          "evalue": "name 'group' is not defined",
          "traceback": [
            "\u001b[1;31m---------------------------------------------------------------------------\u001b[0m",
            "\u001b[1;31mNameError\u001b[0m                                 Traceback (most recent call last)",
            "\u001b[1;32m<ipython-input-9-74949b799b22>\u001b[0m in \u001b[0;36m<module>\u001b[1;34m\u001b[0m\n\u001b[0;32m      1\u001b[0m \u001b[0mgroup_by_sex\u001b[0m \u001b[1;33m=\u001b[0m \u001b[0mdf\u001b[0m\u001b[1;33m.\u001b[0m\u001b[0mgroupby\u001b[0m\u001b[1;33m(\u001b[0m\u001b[1;34m'sex'\u001b[0m\u001b[1;33m)\u001b[0m\u001b[1;33m\u001b[0m\u001b[1;33m\u001b[0m\u001b[0m\n\u001b[0;32m      2\u001b[0m \u001b[0mgroup_by_sex\u001b[0m\u001b[1;33m.\u001b[0m\u001b[0mgroups\u001b[0m\u001b[1;33m\u001b[0m\u001b[1;33m\u001b[0m\u001b[0m\n\u001b[1;32m----> 3\u001b[1;33m \u001b[0mprint\u001b[0m\u001b[1;33m(\u001b[0m\u001b[0mgroup\u001b[0m\u001b[1;33m)\u001b[0m\u001b[1;33m\u001b[0m\u001b[1;33m\u001b[0m\u001b[0m\n\u001b[0m",
            "\u001b[1;31mNameError\u001b[0m: name 'group' is not defined"
          ]
        }
      ],
      "metadata": {}
    }
  ],
  "metadata": {
    "colab": {
      "authorship_tag": "ABX9TyPHEBfTDGwUFkHN+nAJBxrC",
      "include_colab_link": true,
      "name": "Untitled0.ipynb",
      "provenance": []
    },
    "interpreter": {
      "hash": "ee5cc6fef2d70a7e71ee3826687cbd150f18158e0b1eef11d4f4f92bb920e304"
    },
    "kernelspec": {
      "display_name": "Python 3.9.5 64-bit",
      "name": "python3"
    },
    "language_info": {
      "name": "python",
      "version": ""
    }
  },
  "nbformat": 4,
  "nbformat_minor": 2
}