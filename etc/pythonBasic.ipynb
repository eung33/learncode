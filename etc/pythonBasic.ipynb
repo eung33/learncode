{
  "cells": [
    {
      "cell_type": "markdown",
      "metadata": {},
      "source": [
        "# ch01. Python 기초 사용법\n",
        "\n",
        "[Google](https://google.com)\n",
        "\n",
        "\n",
        "```python\n",
        "import pandas as pd\n",
        "```\n",
        "\n",
        "> 인용문\n",
        ">> 중첩된 인용문\n",
        ">>> 중첩된 인용문2\n",
        "\n",
        "---\n",
        "\n",
        "| 값 | 의미 | 기본값 |\n",
        "|---|:---:|---:|\n",
        "| `static` | 유형(기준) 없음 / 배치 불가능 | `static` |\n",
        "| `relative` | 요소 자신을 기준으로 배치 |  |\n",
        "| `absolute` | 위치 상 부모(조상)요소를 기준으로 배치 |  |\n",
        "| `fixed` | 브라우저 창을 기준으로 배치 |  |\n"
      ]
    },
    {
      "cell_type": "code",
      "execution_count": 6,
      "metadata": {},
      "outputs": [
        {
          "name": "stdout",
          "output_type": "stream",
          "text": [
            "H\n",
            "l\n",
            "Hell\n",
            "!\n",
            "l\n",
            "llo!\n",
            "He\n"
          ]
        }
      ],
      "source": [
        "tx = \"Hello!\"\n",
        "print(tx[0])\n",
        "print(tx[3])\n",
        "print(tx[0:4])\n",
        "print(tx[-1])\n",
        "print(tx[-3])\n",
        "print(tx[2:])\n",
        "print(tx[:2])\n",
        "\n"
      ]
    },
    {
      "cell_type": "code",
      "execution_count": 27,
      "metadata": {},
      "outputs": [
        {
          "name": "stdout",
          "output_type": "stream",
          "text": [
            "[1, 2, 3, 4, 5, 6]\n",
            "[1, 2, 3, 1, 2, 3, 1, 2, 3]\n",
            "[2, 3]\n",
            "a\n",
            "['a', 'b', 'c']\n"
          ]
        }
      ],
      "source": [
        "aa = [1, 2, 3]\n",
        "bb = [4, 5, 6]\n",
        "print(aa + bb)\n",
        "print(aa * 3)\n",
        "\n",
        "print(aa[1:3])\n",
        "\n",
        "bb = [1, 2, [\"a\", \"b\", \"c\"]]\n",
        "print(bb[2][0])\n",
        "print(bb[2][-3:])\n"
      ]
    },
    {
      "cell_type": "code",
      "execution_count": 33,
      "metadata": {},
      "outputs": [
        {
          "name": "stdout",
          "output_type": "stream",
          "text": [
            "[2, 3, [99, 99]]\n",
            "[4, 5]\n",
            "[4, 5, 6]\n"
          ]
        }
      ],
      "source": [
        "bb = [2, 3, 4]\n",
        "bb[2] = [99, 99]\n",
        "print(bb)\n",
        "dd = [4, 5, 6]\n",
        "print(dd[0:2])\n",
        "print(dd)"
      ]
    },
    {
      "cell_type": "code",
      "execution_count": 35,
      "metadata": {},
      "outputs": [
        {
          "name": "stdout",
          "output_type": "stream",
          "text": [
            "[2, 3]\n",
            "2\n"
          ]
        }
      ],
      "source": [
        "kk = [1, 2, 3]\n",
        "del kk[0]\n",
        "print(kk)\n",
        "print(kk[0])"
      ]
    },
    {
      "cell_type": "code",
      "execution_count": 42,
      "metadata": {},
      "outputs": [
        {
          "name": "stdout",
          "output_type": "stream",
          "text": [
            "[4, 5, 2]\n"
          ]
        }
      ],
      "source": [
        "ww = [2, 5, 4]\n",
        "ww.reverse()\n",
        "print(ww)"
      ]
    },
    {
      "cell_type": "code",
      "execution_count": 50,
      "metadata": {},
      "outputs": [
        {
          "data": {
            "text/plain": [
              "[1, 2, 99, 3]"
            ]
          },
          "execution_count": 50,
          "metadata": {},
          "output_type": "execute_result"
        }
      ],
      "source": [
        "mm = [1, 2, 3]\n",
        "mm.index(3)\n",
        "mm.insert(2, 99)\n",
        "mm"
      ]
    },
    {
      "cell_type": "code",
      "execution_count": 2,
      "metadata": {},
      "outputs": [
        {
          "data": {
            "text/html": [
              "<div>\n",
              "<style scoped>\n",
              "    .dataframe tbody tr th:only-of-type {\n",
              "        vertical-align: middle;\n",
              "    }\n",
              "\n",
              "    .dataframe tbody tr th {\n",
              "        vertical-align: top;\n",
              "    }\n",
              "\n",
              "    .dataframe thead th {\n",
              "        text-align: right;\n",
              "    }\n",
              "</style>\n",
              "<table border=\"1\" class=\"dataframe\">\n",
              "  <thead>\n",
              "    <tr style=\"text-align: right;\">\n",
              "      <th></th>\n",
              "      <th>name</th>\n",
              "      <th>major</th>\n",
              "      <th>sex</th>\n",
              "    </tr>\n",
              "  </thead>\n",
              "  <tbody>\n",
              "    <tr>\n",
              "      <th>0</th>\n",
              "      <td>John</td>\n",
              "      <td>Computer Science</td>\n",
              "      <td>male</td>\n",
              "    </tr>\n",
              "    <tr>\n",
              "      <th>1</th>\n",
              "      <td>Nate</td>\n",
              "      <td>Computer Science</td>\n",
              "      <td>male</td>\n",
              "    </tr>\n",
              "    <tr>\n",
              "      <th>2</th>\n",
              "      <td>Abraham</td>\n",
              "      <td>Physics</td>\n",
              "      <td>male</td>\n",
              "    </tr>\n",
              "    <tr>\n",
              "      <th>3</th>\n",
              "      <td>Brian</td>\n",
              "      <td>Psychology</td>\n",
              "      <td>male</td>\n",
              "    </tr>\n",
              "    <tr>\n",
              "      <th>4</th>\n",
              "      <td>Janny</td>\n",
              "      <td>Economics</td>\n",
              "      <td>female</td>\n",
              "    </tr>\n",
              "    <tr>\n",
              "      <th>5</th>\n",
              "      <td>Yuna</td>\n",
              "      <td>Economics</td>\n",
              "      <td>female</td>\n",
              "    </tr>\n",
              "    <tr>\n",
              "      <th>6</th>\n",
              "      <td>Jeniffer</td>\n",
              "      <td>Computer Science</td>\n",
              "      <td>female</td>\n",
              "    </tr>\n",
              "    <tr>\n",
              "      <th>7</th>\n",
              "      <td>Edward</td>\n",
              "      <td>Computer Science</td>\n",
              "      <td>male</td>\n",
              "    </tr>\n",
              "    <tr>\n",
              "      <th>8</th>\n",
              "      <td>Zara</td>\n",
              "      <td>Psychology</td>\n",
              "      <td>female</td>\n",
              "    </tr>\n",
              "    <tr>\n",
              "      <th>9</th>\n",
              "      <td>Wendy</td>\n",
              "      <td>Economics</td>\n",
              "      <td>female</td>\n",
              "    </tr>\n",
              "    <tr>\n",
              "      <th>10</th>\n",
              "      <td>Sera</td>\n",
              "      <td>Psychology</td>\n",
              "      <td>female</td>\n",
              "    </tr>\n",
              "  </tbody>\n",
              "</table>\n",
              "</div>"
            ],
            "text/plain": [
              "        name             major     sex\n",
              "0       John  Computer Science    male\n",
              "1       Nate  Computer Science    male\n",
              "2    Abraham           Physics    male\n",
              "3      Brian        Psychology    male\n",
              "4      Janny         Economics  female\n",
              "5       Yuna         Economics  female\n",
              "6   Jeniffer  Computer Science  female\n",
              "7     Edward  Computer Science    male\n",
              "8       Zara        Psychology  female\n",
              "9      Wendy         Economics  female\n",
              "10      Sera        Psychology  female"
            ]
          },
          "execution_count": 2,
          "metadata": {},
          "output_type": "execute_result"
        }
      ],
      "source": [
        "import pandas as pd \n",
        "student_list = [{'name': 'John', 'major': \"Computer Science\", 'sex': \"male\"},\n",
        "                {'name': 'Nate', 'major': \"Computer Science\", 'sex': \"male\"},\n",
        "                {'name': 'Abraham', 'major': \"Physics\", 'sex': \"male\"},\n",
        "                {'name': 'Brian', 'major': \"Psychology\", 'sex': \"male\"},\n",
        "                {'name': 'Janny', 'major': \"Economics\", 'sex': \"female\"},\n",
        "                {'name': 'Yuna', 'major': \"Economics\", 'sex': \"female\"},\n",
        "                {'name': 'Jeniffer', 'major': \"Computer Science\", 'sex': \"female\"},\n",
        "                {'name': 'Edward', 'major': \"Computer Science\", 'sex': \"male\"},\n",
        "                {'name': 'Zara', 'major': \"Psychology\", 'sex': \"female\"},\n",
        "                {'name': 'Wendy', 'major': \"Economics\", 'sex': \"female\"},\n",
        "                {'name': 'Sera', 'major': \"Psychology\", 'sex': \"female\"}\n",
        "         ]\n",
        "df = pd.DataFrame(student_list, columns = ['name', 'major', 'sex'])\n",
        "df"
      ]
    },
    {
      "cell_type": "code",
      "execution_count": 9,
      "metadata": {},
      "outputs": [
        {
          "ename": "NameError",
          "evalue": "name 'group' is not defined",
          "output_type": "error",
          "traceback": [
            "\u001b[1;31m---------------------------------------------------------------------------\u001b[0m",
            "\u001b[1;31mNameError\u001b[0m                                 Traceback (most recent call last)",
            "\u001b[1;32m<ipython-input-9-74949b799b22>\u001b[0m in \u001b[0;36m<module>\u001b[1;34m\u001b[0m\n\u001b[0;32m      1\u001b[0m \u001b[0mgroup_by_sex\u001b[0m \u001b[1;33m=\u001b[0m \u001b[0mdf\u001b[0m\u001b[1;33m.\u001b[0m\u001b[0mgroupby\u001b[0m\u001b[1;33m(\u001b[0m\u001b[1;34m'sex'\u001b[0m\u001b[1;33m)\u001b[0m\u001b[1;33m\u001b[0m\u001b[1;33m\u001b[0m\u001b[0m\n\u001b[0;32m      2\u001b[0m \u001b[0mgroup_by_sex\u001b[0m\u001b[1;33m.\u001b[0m\u001b[0mgroups\u001b[0m\u001b[1;33m\u001b[0m\u001b[1;33m\u001b[0m\u001b[0m\n\u001b[1;32m----> 3\u001b[1;33m \u001b[0mprint\u001b[0m\u001b[1;33m(\u001b[0m\u001b[0mgroup\u001b[0m\u001b[1;33m)\u001b[0m\u001b[1;33m\u001b[0m\u001b[1;33m\u001b[0m\u001b[0m\n\u001b[0m",
            "\u001b[1;31mNameError\u001b[0m: name 'group' is not defined"
          ]
        }
      ],
      "source": [
        "group_by_sex = df.groupby('sex')\n",
        "group_by_sex.groups\n",
        "print(group)"
      ]
    },
    {
      "cell_type": "code",
      "execution_count": 3,
      "metadata": {},
      "outputs": [],
      "source": [
        "f = open(\"C:/Users/eg21k/code/learncode/매수종목1.txt\", mode=\"wt\", encoding=\"utf-8\")\n",
        "f.write(\"005930\\n\")\n",
        "f.write(\"005380\\n\")\n",
        "f.write(\"035420\")\n",
        "f.close()"
      ]
    }
  ],
  "metadata": {
    "colab": {
      "authorship_tag": "ABX9TyPHEBfTDGwUFkHN+nAJBxrC",
      "include_colab_link": true,
      "name": "Untitled0.ipynb",
      "provenance": []
    },
    "interpreter": {
      "hash": "ee5cc6fef2d70a7e71ee3826687cbd150f18158e0b1eef11d4f4f92bb920e304"
    },
    "kernelspec": {
      "display_name": "Python 3.9.5 64-bit",
      "name": "python3"
    },
    "language_info": {
      "codemirror_mode": {
        "name": "ipython",
        "version": 3
      },
      "file_extension": ".py",
      "mimetype": "text/x-python",
      "name": "python",
      "nbconvert_exporter": "python",
      "pygments_lexer": "ipython3",
      "version": "3.9.5"
    }
  },
  "nbformat": 4,
  "nbformat_minor": 2
}
