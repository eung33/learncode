{
  "nbformat": 4,
  "nbformat_minor": 0,
  "metadata": {
    "colab": {
      "name": "Untitled0.ipynb",
      "provenance": [],
      "authorship_tag": "ABX9TyPHEBfTDGwUFkHN+nAJBxrC",
      "include_colab_link": true
    },
    "kernelspec": {
      "name": "python3",
      "display_name": "Python 3"
    },
    "language_info": {
      "name": "python"
    }
  },
  "cells": [
    {
      "cell_type": "markdown",
      "metadata": {
        "id": "view-in-github",
        "colab_type": "text"
      },
      "source": [
        "<a href=\"https://colab.research.google.com/github/eung33/learncode/blob/master/pythonBasic.ipynb\" target=\"_parent\"><img src=\"https://colab.research.google.com/assets/colab-badge.svg\" alt=\"Open In Colab\"/></a>"
      ]
    },
    {
      "cell_type": "code",
      "metadata": {
        "colab": {
          "base_uri": "https://localhost:8080/"
        },
        "id": "HvoMt2JqKJ4_",
        "outputId": "9623044b-1a4c-401f-83ce-89b6afc3816a"
      },
      "source": [
        "# #from 나도 코딩\n",
        "# subway = [10, 20, 30]\n",
        "\n",
        "# #print(subway)\n",
        "\n",
        "# subway = [\"유재석\", \"조세호\", \"김태호\"]\n",
        "# #print(subway.index(\"조세호\"))\n",
        "\n",
        "# subway.append(\"하하\")\n",
        "# #print(subway)\n",
        "\n",
        "# subway.insert(1, \"정형돈\")\n",
        "\n",
        "# print(subway)\n",
        "# subway.pop()\n",
        "# print(subway)\n",
        "\n",
        "\n",
        "cabinet = {3:\"유재석\", 100:\"김태호\"}\n",
        "print(cabinet[3])\n",
        "print(cabinet[100])\n",
        "\n",
        "print(cabinet.get(3))\n",
        "# print(cabinet[5])\n",
        "print(cabinet.get(5))\n",
        "print(cabinet.get(5, \"사용 가능\"))\n",
        "print(\"hi\")\n",
        "\n",
        "print( 3 in cabinet)\n",
        "\n"
      ],
      "execution_count": 24,
      "outputs": [
        {
          "output_type": "stream",
          "text": [
            "유재석\n",
            "김태호\n",
            "유재석\n",
            "None\n",
            "사용 가능\n",
            "hi\n",
            "True\n",
            "True\n"
          ],
          "name": "stdout"
        }
      ]
    }
  ]
}