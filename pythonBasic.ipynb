{
  "cells": [
    {
      "cell_type": "markdown",
      "metadata": {
        "colab_type": "text",
        "id": "view-in-github"
      },
      "source": [
        "<a href=\"https://colab.research.google.com/github/eung33/learncode/blob/master/pythonBasic.ipynb\" target=\"_parent\"><img src=\"https://colab.research.google.com/assets/colab-badge.svg\" alt=\"Open In Colab\"/></a>"
      ]
    },
    {
      "cell_type": "code",
      "execution_count": 17,
      "metadata": {
        "colab": {
          "base_uri": "https://localhost:8080/"
        },
        "id": "HvoMt2JqKJ4_",
        "outputId": "9623044b-1a4c-401f-83ce-89b6afc3816a"
      },
      "outputs": [
        {
          "name": "stdout",
          "output_type": "stream",
          "text": [
            "Are you sure shutdown all system of SETK? then please input : \"ShutdownSETK698106\"\n",
            "shutdown canceled.\n"
          ]
        }
      ],
      "source": [
        "from random import *\r\n",
        "string = input(\"input \\\"shutdownAll\\\" command for emergency!!!\")\r\n",
        "if(string=='shutdownAll'):\r\n",
        "    company = input(\"company name ex)SEMA\")\r\n",
        "    shutdownpasswd = str(randint(100000, 999999))\r\n",
        "    print(\"Are you sure shutdown all system of \" + company + \"? then please input : \\\"Shutdown\" + company + shutdownpasswd + \"\\\"\")\r\n",
        "    shutdownkey = input()\r\n",
        "    if(shutdownkey == \"Shutdown\"+company+shutdownpasswd):\r\n",
        "        print(\"shutdown started\")\r\n",
        "    else:\r\n",
        "        print(\"shutdown canceled.\")\r\n",
        "else:\r\n",
        "    print(\"shutdown canceled.\")\r\n",
        "\r\n",
        "\r\n"
      ]
    },
    {
      "cell_type": "code",
      "execution_count": null,
      "metadata": {},
      "outputs": [],
      "source": []
    }
  ],
  "metadata": {
    "colab": {
      "authorship_tag": "ABX9TyPHEBfTDGwUFkHN+nAJBxrC",
      "include_colab_link": true,
      "name": "Untitled0.ipynb",
      "provenance": []
    },
    "interpreter": {
      "hash": "ee5cc6fef2d70a7e71ee3826687cbd150f18158e0b1eef11d4f4f92bb920e304"
    },
    "kernelspec": {
      "display_name": "Python 3.9.5 64-bit",
      "name": "python3"
    },
    "language_info": {
      "codemirror_mode": {
        "name": "ipython",
        "version": 3
      },
      "file_extension": ".py",
      "mimetype": "text/x-python",
      "name": "python",
      "nbconvert_exporter": "python",
      "pygments_lexer": "ipython3",
      "version": "3.9.5"
    }
  },
  "nbformat": 4,
  "nbformat_minor": 0
}